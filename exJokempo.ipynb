{
  "nbformat": 4,
  "nbformat_minor": 0,
  "metadata": {
    "colab": {
      "provenance": [],
      "authorship_tag": "ABX9TyPzJMmS73Z+Yqf0vh3qLEFq",
      "include_colab_link": true
    },
    "kernelspec": {
      "name": "python3",
      "display_name": "Python 3"
    },
    "language_info": {
      "name": "python"
    }
  },
  "cells": [
    {
      "cell_type": "markdown",
      "metadata": {
        "id": "view-in-github",
        "colab_type": "text"
      },
      "source": [
        "<a href=\"https://colab.research.google.com/github/bruno-edlp/JokempoExercise/blob/main/exJokempo.ipynb\" target=\"_parent\"><img src=\"https://colab.research.google.com/assets/colab-badge.svg\" alt=\"Open In Colab\"/></a>"
      ]
    },
    {
      "cell_type": "code",
      "execution_count": null,
      "metadata": {
        "colab": {
          "base_uri": "https://localhost:8080/"
        },
        "id": "xJdMJBOFk1mb",
        "outputId": "92595a8b-e35a-445f-a399-b37b7c6c3d73"
      },
      "outputs": [
        {
          "output_type": "stream",
          "name": "stdout",
          "text": [
            "Opções :\n",
            "[0]Pedra\n",
            "[1]Papel\n",
            "[2]Tesoura\n",
            "Faça sua jogada!!!0\n",
            "JO\n",
            "KEN\n"
          ]
        }
      ],
      "source": [
        "from random import randint\n",
        "from time import sleep\n",
        "\n",
        "#Jokempo\n",
        "\n",
        "opcs = (\"Pedra\", \"Papel\", \"Tesoura\")\n",
        "opcIa = randint(0,2)\n",
        "\n",
        "print('''Opções :\n",
        "[0]Pedra\n",
        "[1]Papel\n",
        "[2]Tesoura''')\n",
        "\n",
        "jogada = int(input('Faça sua jogada!!!'))\n",
        "\n",
        "print(\"JO\")\n",
        "sleep(1)\n",
        "print(\"KEN\")\n",
        "sleep(1)\n",
        "print(\"PO\")\n",
        "sleep(2)\n",
        "print('-=' * 11)\n",
        "\n",
        "print(f'Jogada user {opcs[jogada]}')\n",
        "print(f'Jogada IA {opcs[opcIa]}')\n",
        "print('-=' * 11)\n",
        "\n",
        "if opcIa == 0: #Jogada pedra[0]\n",
        "  if jogada == 0:\n",
        "    print('EMPATE!')\n",
        "  elif jogada == 1:\n",
        "    print('VOCÊ GANHOU!')\n",
        "  elif jogada == 2:\n",
        "    print('VOCÊ PERDEU!')\n",
        "  else:\n",
        "    print('Jogada Inválida')\n",
        "elif opcIa == 1 :\n",
        "  if jogada == 0:\n",
        "    print('VOCÊ PERDEU!')\n",
        "  elif jogada == 1:\n",
        "    print('EMPATE!')\n",
        "  elif jogada == 2:\n",
        "    print('VOCÊ GANHOU')\n",
        "  else:\n",
        "    print('Jogada Inválida!')\n",
        "elif opcIa == 2:\n",
        "  if jogada == 0:\n",
        "    print('VOCÊ GANHOU!')\n",
        "  elif jogada == 1:\n",
        "    print('VOCÊ PERDEU!')\n",
        "  elif jogada == 2:\n",
        "    print('EMPATE!')\n",
        "  else:\n",
        "    print('Jogada Inválida!')\n",
        "\n",
        "    #https://shopee.com.br/product/1060005600/22897172259?srsltid=AfmBOopdcxZrsVOzgbmP-qDY0gGpaZebhA1vVJKf_9GhLlF0q5iSR0A1fJQ"
      ]
    }
  ]
}